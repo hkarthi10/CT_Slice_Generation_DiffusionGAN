{
 "cells": [
  {
   "cell_type": "code",
   "execution_count": 2,
   "metadata": {
    "execution": {
     "iopub.execute_input": "2025-06-28T07:30:30.109266Z",
     "iopub.status.busy": "2025-06-28T07:30:30.108892Z",
     "iopub.status.idle": "2025-06-28T07:30:40.109111Z",
     "shell.execute_reply": "2025-06-28T07:30:40.107852Z",
     "shell.execute_reply.started": "2025-06-28T07:30:30.109235Z"
    },
    "trusted": true
   },
   "outputs": [
    {
     "ename": "ModuleNotFoundError",
     "evalue": "No module named 'torch'",
     "output_type": "error",
     "traceback": [
      "\u001b[31m---------------------------------------------------------------------------\u001b[39m",
      "\u001b[31mModuleNotFoundError\u001b[39m                       Traceback (most recent call last)",
      "\u001b[36mCell\u001b[39m\u001b[36m \u001b[39m\u001b[32mIn[2]\u001b[39m\u001b[32m, line 1\u001b[39m\n\u001b[32m----> \u001b[39m\u001b[32m1\u001b[39m \u001b[38;5;28;01mimport\u001b[39;00m\u001b[38;5;250m \u001b[39m\u001b[34;01mtorch\u001b[39;00m\n\u001b[32m      2\u001b[39m \u001b[38;5;28;01mimport\u001b[39;00m\u001b[38;5;250m \u001b[39m\u001b[34;01mtorchvision\u001b[39;00m\n\u001b[32m      3\u001b[39m \u001b[38;5;28;01mfrom\u001b[39;00m\u001b[38;5;250m \u001b[39m\u001b[34;01mtorchvision\u001b[39;00m\u001b[38;5;250m \u001b[39m\u001b[38;5;28;01mimport\u001b[39;00m datasets, transforms\n",
      "\u001b[31mModuleNotFoundError\u001b[39m: No module named 'torch'"
     ]
    }
   ],
   "source": [
    "import torch\n",
    "import torchvision\n",
    "from torchvision import datasets, transforms\n",
    "import matplotlib.pyplot as plt\n"
   ]
  },
  {
   "cell_type": "code",
   "execution_count": null,
   "metadata": {
    "execution": {
     "iopub.execute_input": "2025-06-28T07:30:47.457981Z",
     "iopub.status.busy": "2025-06-28T07:30:47.457585Z",
     "iopub.status.idle": "2025-06-28T07:30:49.280920Z",
     "shell.execute_reply": "2025-06-28T07:30:49.279778Z",
     "shell.execute_reply.started": "2025-06-28T07:30:47.457955Z"
    },
    "trusted": true
   },
   "outputs": [
    {
     "name": "stderr",
     "output_type": "stream",
     "text": [
      "100%|██████████| 9.91M/9.91M [00:00<00:00, 57.9MB/s]\n",
      "100%|██████████| 28.9k/28.9k [00:00<00:00, 1.69MB/s]\n",
      "100%|██████████| 1.65M/1.65M [00:00<00:00, 14.2MB/s]\n",
      "100%|██████████| 4.54k/4.54k [00:00<00:00, 5.77MB/s]\n"
     ]
    }
   ],
   "source": [
    "transform = transforms.Compose([\n",
    "    transforms.ToTensor(),  # Converts image to tensor [0,1]\n",
    "    transforms.Lambda(lambda t: (t * 2) - 1)  # Normalize to [-1, 1]\n",
    "])\n",
    "\n",
    "mnist = datasets.MNIST(root=\"data\", train=True, download=True, transform=transform)\n",
    "data_loader = torch.utils.data.DataLoader(mnist, batch_size=1, shuffle=True)\n"
   ]
  },
  {
   "cell_type": "code",
   "execution_count": 3,
   "metadata": {
    "execution": {
     "iopub.execute_input": "2025-06-28T07:31:24.618484Z",
     "iopub.status.busy": "2025-06-28T07:31:24.618097Z",
     "iopub.status.idle": "2025-06-28T07:31:24.733131Z",
     "shell.execute_reply": "2025-06-28T07:31:24.732097Z",
     "shell.execute_reply.started": "2025-06-28T07:31:24.618455Z"
    },
    "trusted": true
   },
   "outputs": [
    {
     "ename": "NameError",
     "evalue": "name 'data_loader' is not defined",
     "output_type": "error",
     "traceback": [
      "\u001b[31m---------------------------------------------------------------------------\u001b[39m",
      "\u001b[31mNameError\u001b[39m                                 Traceback (most recent call last)",
      "\u001b[36mCell\u001b[39m\u001b[36m \u001b[39m\u001b[32mIn[3]\u001b[39m\u001b[32m, line 2\u001b[39m\n\u001b[32m      1\u001b[39m \u001b[38;5;66;03m# Get one image from the data loader\u001b[39;00m\n\u001b[32m----> \u001b[39m\u001b[32m2\u001b[39m image, label = \u001b[38;5;28mnext\u001b[39m(\u001b[38;5;28miter\u001b[39m(\u001b[43mdata_loader\u001b[49m))\n\u001b[32m      4\u001b[39m \u001b[38;5;66;03m# Plot it\u001b[39;00m\n\u001b[32m      5\u001b[39m plt.imshow(image.squeeze(), cmap=\u001b[33m\"\u001b[39m\u001b[33mgray\u001b[39m\u001b[33m\"\u001b[39m)\n",
      "\u001b[31mNameError\u001b[39m: name 'data_loader' is not defined"
     ]
    }
   ],
   "source": [
    "# Get one image from the data loader\n",
    "image, label = next(iter(data_loader))\n",
    "\n",
    "# Plot it\n",
    "plt.imshow(image.squeeze(), cmap=\"gray\")\n",
    "plt.title(f\"Label: {label.item()}\")\n",
    "plt.axis(\"off\")\n",
    "plt.show()\n"
   ]
  },
  {
   "cell_type": "code",
   "execution_count": null,
   "metadata": {
    "execution": {
     "iopub.execute_input": "2025-06-28T07:31:52.700169Z",
     "iopub.status.busy": "2025-06-28T07:31:52.699785Z",
     "iopub.status.idle": "2025-06-28T07:31:52.706666Z",
     "shell.execute_reply": "2025-06-28T07:31:52.705667Z",
     "shell.execute_reply.started": "2025-06-28T07:31:52.700141Z"
    },
    "trusted": true
   },
   "outputs": [],
   "source": [
    "T = 300  # Total diffusion steps\n",
    "\n",
    "# Linearly spaced noise values from 0.0001 to 0.02\n",
    "betas = torch.linspace(1e-4, 0.02, T)\n",
    "\n",
    "# Alpha is the amount of \"signal\" we keep at each step\n",
    "alphas = 1. - betas\n",
    "\n",
    "# Cumulative product of alphas across all steps\n",
    "alphas_cumprod = torch.cumprod(alphas, dim=0)\n"
   ]
  },
  {
   "cell_type": "code",
   "execution_count": null,
   "metadata": {
    "execution": {
     "iopub.execute_input": "2025-06-28T07:32:28.597924Z",
     "iopub.status.busy": "2025-06-28T07:32:28.596847Z",
     "iopub.status.idle": "2025-06-28T07:32:28.604771Z",
     "shell.execute_reply": "2025-06-28T07:32:28.603439Z",
     "shell.execute_reply.started": "2025-06-28T07:32:28.597852Z"
    },
    "trusted": true
   },
   "outputs": [],
   "source": [
    "def forward_diffusion_sample(x_0, t, device=\"cpu\"):\n",
    "    \"\"\"\n",
    "    Takes an image x_0 and a timestep t,\n",
    "    returns the noised image x_t and the noise ε added.\n",
    "    \"\"\"\n",
    "    noise = torch.randn_like(x_0)  # ε ~ N(0, 1), same shape as image\n",
    "\n",
    "    # Get the square root of cumulative alpha at step t\n",
    "    sqrt_alphas_cumprod = torch.sqrt(alphas_cumprod[t])[:, None, None, None]\n",
    "    sqrt_one_minus_alphas_cumprod = torch.sqrt(1 - alphas_cumprod[t])[:, None, None, None]\n",
    "\n",
    "    # Add noise using the diffusion formula\n",
    "    x_t = sqrt_alphas_cumprod * x_0 + sqrt_one_minus_alphas_cumprod * noise\n",
    "    return x_t, noise\n"
   ]
  },
  {
   "cell_type": "code",
   "execution_count": null,
   "metadata": {
    "execution": {
     "iopub.execute_input": "2025-06-28T07:32:56.549051Z",
     "iopub.status.busy": "2025-06-28T07:32:56.548128Z",
     "iopub.status.idle": "2025-06-28T07:32:57.042534Z",
     "shell.execute_reply": "2025-06-28T07:32:57.041367Z",
     "shell.execute_reply.started": "2025-06-28T07:32:56.549022Z"
    },
    "trusted": true
   },
   "outputs": [
    {
     "data": {
      "image/png": "[encoded data removed]",
      "text/plain": [
       "<Figure size 1500x500 with 5 Axes>"
      ]
     },
     "metadata": {},
     "output_type": "display_data"
    }
   ],
   "source": [
    "def show_forward_diffusion(img, steps=[0, 50, 100, 150, 199]):\n",
    "    \"\"\"\n",
    "    Visualize the image after different numbers of diffusion steps.\n",
    "    \"\"\"\n",
    "    plt.figure(figsize=(15, 5))\n",
    "    for i, t in enumerate(steps):\n",
    "        t_batch = torch.tensor([t], dtype=torch.long)\n",
    "        noisy_img, _ = forward_diffusion_sample(img, t_batch)\n",
    "        plt.subplot(1, len(steps), i + 1)\n",
    "        plt.imshow(noisy_img.squeeze().numpy(), cmap=\"gray\")\n",
    "        plt.title(f\"Step {t}\")\n",
    "        plt.axis(\"off\")\n",
    "    plt.show()\n",
    "\n",
    "# Take one image and visualize\n",
    "image, _ = mnist[0]\n",
    "image = image.unsqueeze(0)  # Add batch dimension (1, 1, 28, 28)\n",
    "show_forward_diffusion(image)\n"
   ]
  }
 ],
 "metadata": {
  "kaggle": {
   "accelerator": "none",
   "dataSources": [],
   "dockerImageVersionId": 31040,
   "isGpuEnabled": false,
   "isInternetEnabled": true,
   "language": "python",
   "sourceType": "notebook"
  },
  "kernelspec": {
   "display_name": "myenv",
   "language": "python",
   "name": "python3"
  },
  "language_info": {
   "codemirror_mode": {
    "name": "ipython",
    "version": 3
   },
   "file_extension": ".py",
   "mimetype": "text/x-python",
   "name": "python",
   "nbconvert_exporter": "python",
   "pygments_lexer": "ipython3",
   "version": "3.12.6"
  }
 },
 "nbformat": 4,
 "nbformat_minor": 4
}
