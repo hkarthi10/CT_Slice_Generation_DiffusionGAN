{
 "cells": [
  {
   "cell_type": "markdown",
   "metadata": {},
   "source": [
    "# Generating Abdominal CT slices using a Simple Diffusion-GAN Model"
   ]
  },
  {
   "cell_type": "markdown",
   "metadata": {},
   "source": [
    "# 1.Importing the important packages"
   ]
  },
  {
   "cell_type": "code",
   "execution_count": 1,
   "metadata": {
    "_cell_guid": "b1076dfc-b9ad-4769-8c92-a6c4dae69d19",
    "_uuid": "8f2839f25d086af736a60e9eeb907d3b93b6e0e5",
    "execution": {
     "iopub.execute_input": "2025-07-05T03:30:29.071400Z",
     "iopub.status.busy": "2025-07-05T03:30:29.071069Z",
     "iopub.status.idle": "2025-07-05T03:30:30.481003Z",
     "shell.execute_reply": "2025-07-05T03:30:30.480177Z",
     "shell.execute_reply.started": "2025-07-05T03:30:29.071379Z"
    },
    "trusted": true
   },
   "outputs": [],
   "source": [
    "import os             #for accessing files using path and perform path operations\n",
    "import pydicom        #for dealing with dcm or diocm files\n",
    "import cv2            #for resize the image\n",
    "import numpy as np\n",
    "from tqdm import tqdm #for progress bat"
   ]
  },
  {
   "cell_type": "markdown",
   "metadata": {},
   "source": [
    "# 2.Function(data_loader) for loading the CT scan slices into a list"
   ]
  },
  {
   "cell_type": "code",
   "execution_count": 2,
   "metadata": {
    "execution": {
     "iopub.execute_input": "2025-07-05T03:30:30.483075Z",
     "iopub.status.busy": "2025-07-05T03:30:30.482780Z",
     "iopub.status.idle": "2025-07-05T03:30:30.488512Z",
     "shell.execute_reply": "2025-07-05T03:30:30.487761Z",
     "shell.execute_reply.started": "2025-07-05T03:30:30.483053Z"
    },
    "trusted": true
   },
   "outputs": [],
   "source": [
    "def data_loader(folder_path, target_size=(128,128)):\n",
    "    slices=[]\n",
    "    for file_name in sorted(os.listdir(folder_path)):\n",
    "        if file_name.endswith('.dcm'):\n",
    "            file_path =  os.path.join(folder_path, file_name)\n",
    "            dicm = pydicom.dcmread(file_path)\n",
    "            img = dicm.pixel_array.astype(np.float32)\n",
    "            img = cv2.resize(img, target_size, interpolation = cv2.INTER_AREA)#cv2.INTER_AREA: This interpolation method is best suited for shrinking or downscaling an image. It uses pixel area relation and provides the best results for reducing image dimensions.\n",
    "            iimg = (img - np.min(img)) / (np.max(img) - np.min(img))  # [0, 1]\n",
    "            img = (img * 2) - 1  # Convert to [-1, 1]\n",
    "            slices.append(img)\n",
    "    return slices"
   ]
  },
  {
   "cell_type": "markdown",
   "metadata": {},
   "source": [
    "# 3.Data Preprocessing"
   ]
  },
  {
   "cell_type": "code",
   "execution_count": 3,
   "metadata": {
    "execution": {
     "iopub.execute_input": "2025-07-05T03:30:30.490096Z",
     "iopub.status.busy": "2025-07-05T03:30:30.489356Z",
     "iopub.status.idle": "2025-07-05T03:31:11.056894Z",
     "shell.execute_reply": "2025-07-05T03:31:11.056032Z",
     "shell.execute_reply.started": "2025-07-05T03:30:30.490070Z"
    },
    "trusted": true
   },
   "outputs": [
    {
     "name": "stdout",
     "output_type": "stream",
     "text": [
      "['1', '10', '14', '16', '18', '19', '2', '21', '22', '23', '24', '25', '26', '27', '28', '29', '30', '5', '6', '8']\n"
     ]
    },
    {
     "name": "stderr",
     "output_type": "stream",
     "text": [
      "100%|██████████| 20/20 [00:40<00:00,  2.02s/it]"
     ]
    },
    {
     "name": "stdout",
     "output_type": "stream",
     "text": [
      "Total slices: (2874, 128, 128)\n"
     ]
    },
    {
     "name": "stderr",
     "output_type": "stream",
     "text": [
      "\n"
     ]
    }
   ],
   "source": [
    "all_slices=[]\n",
    "basedir=\"/kaggle/input/chaos-dataset/CHAOS_Train_Sets/Train_Sets/CT\"\n",
    "patients_dir = sorted(os.listdir(basedir))\n",
    "print(patients_dir)\n",
    "for patient in tqdm(patients_dir):\n",
    "    dicom_folder = os.path.join(basedir,patient,\"DICOM_anon\")#Constructs the path to a folder containing anonymized DICOM files for the current patient.\n",
    "    slices = data_loader(dicom_folder)\n",
    "    all_slices.extend(slices)\n",
    "all_slices = np.array(all_slices)\n",
    "print(\"Total slices:\",all_slices.shape)"
   ]
  },
  {
   "cell_type": "code",
   "execution_count": 4,
   "metadata": {
    "execution": {
     "iopub.execute_input": "2025-07-05T03:31:11.057889Z",
     "iopub.status.busy": "2025-07-05T03:31:11.057647Z",
     "iopub.status.idle": "2025-07-05T03:31:11.189265Z",
     "shell.execute_reply": "2025-07-05T03:31:11.188627Z",
     "shell.execute_reply.started": "2025-07-05T03:31:11.057870Z"
    },
    "trusted": true
   },
   "outputs": [
    {
     "name": "stdout",
     "output_type": "stream",
     "text": [
      "Saved preprocessed CT slices to working directory.\n"
     ]
    }
   ],
   "source": [
    "np.save(\"/kaggle/working/ct_train_preprocessed.npy\", all_slices)\n",
    "print(\"Saved preprocessed CT slices to working directory.\")"
   ]
  },
  {
   "cell_type": "markdown",
   "metadata": {},
   "source": [
    "# 4.GAN Implemetation"
   ]
  },
  {
   "cell_type": "code",
   "execution_count": 5,
   "metadata": {
    "execution": {
     "iopub.execute_input": "2025-07-05T03:31:11.191175Z",
     "iopub.status.busy": "2025-07-05T03:31:11.190918Z",
     "iopub.status.idle": "2025-07-05T03:31:18.899376Z",
     "shell.execute_reply": "2025-07-05T03:31:18.898695Z",
     "shell.execute_reply.started": "2025-07-05T03:31:11.191157Z"
    },
    "trusted": true
   },
   "outputs": [
    {
     "name": "stdout",
     "output_type": "stream",
     "text": [
      "cuda\n"
     ]
    }
   ],
   "source": [
    "import torch\n",
    "import torch.nn as nn\n",
    "from torch.utils.data import DataLoader,TensorDataset\n",
    "import matplotlib.pyplot as plt\n",
    "from tqdm import tqdm\n",
    "import numpy as np\n",
    "\n",
    "device = torch.device(\"cuda\" if torch.cuda.is_available() else \"cpu\")\n",
    "print(device)"
   ]
  },
  {
   "cell_type": "code",
   "execution_count": 6,
   "metadata": {
    "execution": {
     "iopub.execute_input": "2025-07-05T03:31:18.900399Z",
     "iopub.status.busy": "2025-07-05T03:31:18.900079Z",
     "iopub.status.idle": "2025-07-05T03:31:19.432996Z",
     "shell.execute_reply": "2025-07-05T03:31:19.432175Z",
     "shell.execute_reply.started": "2025-07-05T03:31:18.900371Z"
    },
    "trusted": true
   },
   "outputs": [],
   "source": [
    "slices = np.load(\"/kaggle/working/ct_train_preprocessed.npy\")#Loads a preprocessed NumPy array from a .npy file into memory.\n",
    "slices = torch.tensor(slices).unsqueeze(1).float()#Converts the NumPy array (slices) into a PyTorch tensor, adds an extra dimension, and converts its data type to floating-point numbers.\n",
    "slices = slices.to(device)#Moves the PyTorch tensor (slices) to a specific device (e.g., CPU or GPU)."
   ]
  },
  {
   "cell_type": "code",
   "execution_count": 7,
   "metadata": {
    "execution": {
     "iopub.execute_input": "2025-07-05T03:31:19.434646Z",
     "iopub.status.busy": "2025-07-05T03:31:19.433988Z",
     "iopub.status.idle": "2025-07-05T03:31:19.438741Z",
     "shell.execute_reply": "2025-07-05T03:31:19.437935Z",
     "shell.execute_reply.started": "2025-07-05T03:31:19.434624Z"
    },
    "trusted": true
   },
   "outputs": [],
   "source": [
    "dataset = TensorDataset(slices)\n",
    "load =  DataLoader(dataset, batch_size = 64, shuffle = True)"
   ]
  },
  {
   "cell_type": "markdown",
   "metadata": {},
   "source": [
    "# 5.Generator (U-Net Architecture)"
   ]
  },
  {
   "cell_type": "code",
   "execution_count": 8,
   "metadata": {
    "execution": {
     "iopub.execute_input": "2025-07-05T03:31:19.439938Z",
     "iopub.status.busy": "2025-07-05T03:31:19.439675Z",
     "iopub.status.idle": "2025-07-05T03:31:19.458200Z",
     "shell.execute_reply": "2025-07-05T03:31:19.457609Z",
     "shell.execute_reply.started": "2025-07-05T03:31:19.439920Z"
    },
    "trusted": true
   },
   "outputs": [],
   "source": [
    "import torch\n",
    "import torch.nn as nn\n",
    "import torch.nn.functional as F\n",
    "\n",
    "class UNetGenerator(nn.Module):\n",
    "    def __init__(self, in_channels=1, out_channels=1, features=[64, 128, 256, 512]):\n",
    "        super(UNetGenerator, self).__init__()\n",
    "\n",
    "        self.downs = nn.ModuleList()\n",
    "        self.ups = nn.ModuleList()\n",
    "        self.pool = nn.MaxPool2d(kernel_size=2, stride=2)\n",
    "\n",
    "        # Encoder starts with in_channels + embedding channels (assume 1 channel for t_embed)\n",
    "        self.initial_conv = self.double_conv(in_channels + 64, features[0])  # Adjust for 64 embedding channels\n",
    "        in_channels = features[0]\n",
    "\n",
    "        # Rest of the encoder\n",
    "        for feature in features[1:]:  # Skip the first feature as it's handled by initial_conv\n",
    "            self.downs.append(self.double_conv(in_channels, feature))\n",
    "            in_channels = feature\n",
    "\n",
    "        # Bottleneck\n",
    "        self.bottleneck = self.double_conv(features[-1], features[-1] * 2)\n",
    "\n",
    "        # Decoder\n",
    "        for feature in reversed(features):\n",
    "            self.ups.append(nn.ConvTranspose2d(feature * 2, feature, kernel_size=2, stride=2))\n",
    "            self.ups.append(self.double_conv(feature * 2, feature))\n",
    "\n",
    "        # Final layer\n",
    "        self.final_conv = nn.Sequential(\n",
    "            nn.Conv2d(features[0], out_channels, kernel_size=1),\n",
    "            nn.Tanh() \n",
    "        )\n",
    "\n",
    "    def forward(self, x, t):\n",
    "        skip_connections = []\n",
    "\n",
    "        # Timestep embedding\n",
    "        t_embed = self.get_timestep_embedding(t, channels=64)  # 64 channels for embedding\n",
    "        x = torch.cat([x, t_embed], dim=1)  # Concatenate to create 1 + 64 = 65 channels\n",
    "\n",
    "        # Downsampling\n",
    "        x = self.initial_conv(x)  # First conv handles the concatenated input\n",
    "        skip_connections.append(x)\n",
    "        x = self.pool(x)\n",
    "\n",
    "        for down in self.downs:\n",
    "            x = down(x)\n",
    "            skip_connections.append(x)\n",
    "            x = self.pool(x)\n",
    "\n",
    "        # Bottleneck\n",
    "        x = self.bottleneck(x)\n",
    "        skip_connections = skip_connections[::-1]\n",
    "\n",
    "        # Upsampling\n",
    "        for idx in range(0, len(self.ups), 2):\n",
    "            x = self.ups[idx](x)\n",
    "            skip_connection = skip_connections[idx // 2]\n",
    "            if x.shape != skip_connection.shape:\n",
    "                x = F.interpolate(x, size=skip_connection.shape[2:])\n",
    "            x = torch.cat((skip_connection, x), dim=1)\n",
    "            x = self.ups[idx + 1](x)\n",
    "\n",
    "        return self.final_conv(x)\n",
    "\n",
    "    @staticmethod\n",
    "    def double_conv(in_channels, out_channels):\n",
    "        return nn.Sequential(\n",
    "            nn.Conv2d(in_channels, out_channels, 3, padding=1),\n",
    "            nn.ReLU(inplace=True),\n",
    "            nn.Conv2d(out_channels, out_channels, 3, padding=1),\n",
    "            nn.ReLU(inplace=True)\n",
    "        )\n",
    "\n",
    "    @staticmethod\n",
    "    def get_timestep_embedding(t, channels):\n",
    "        half = channels // 2\n",
    "        emb = torch.log(torch.tensor(10000.0)) / (half - 1)\n",
    "        emb = torch.exp(-emb * torch.arange(half, device=t.device))\n",
    "        emb = t.float()[:, None] * emb[None, :]\n",
    "        emb = torch.cat([torch.sin(emb), torch.cos(emb)], dim=-1)\n",
    "        return emb.view(-1, channels, 1, 1).expand(-1, -1, 128, 128)  # Match image size"
   ]
  },
  {
   "cell_type": "code",
   "execution_count": 9,
   "metadata": {
    "execution": {
     "iopub.execute_input": "2025-07-05T03:31:19.459052Z",
     "iopub.status.busy": "2025-07-05T03:31:19.458840Z",
     "iopub.status.idle": "2025-07-05T03:31:19.769854Z",
     "shell.execute_reply": "2025-07-05T03:31:19.768991Z",
     "shell.execute_reply.started": "2025-07-05T03:31:19.459036Z"
    },
    "trusted": true
   },
   "outputs": [],
   "source": [
    "generator = UNetGenerator(in_channels=1, out_channels=1).to(device)#sample generator object"
   ]
  },
  {
   "cell_type": "markdown",
   "metadata": {},
   "source": [
    "# 6.Discriminator (CNN)"
   ]
  },
  {
   "cell_type": "code",
   "execution_count": 10,
   "metadata": {
    "execution": {
     "iopub.execute_input": "2025-07-05T03:31:19.771062Z",
     "iopub.status.busy": "2025-07-05T03:31:19.770850Z",
     "iopub.status.idle": "2025-07-05T03:31:19.777212Z",
     "shell.execute_reply": "2025-07-05T03:31:19.776538Z",
     "shell.execute_reply.started": "2025-07-05T03:31:19.771046Z"
    },
    "trusted": true
   },
   "outputs": [],
   "source": [
    "class Discriminator(nn.Module):\n",
    "    def __init__(self, in_channels=1, features=[64, 128, 256, 512]):\n",
    "        super(Discriminator, self).__init__()\n",
    "        layers = []\n",
    "\n",
    "        # Initial conv (no batchnorm)\n",
    "        layers.append(\n",
    "            nn.Sequential(\n",
    "                nn.Conv2d(in_channels, features[0], kernel_size=4, stride=2, padding=1),\n",
    "                nn.LeakyReLU(0.2)\n",
    "            )\n",
    "        )\n",
    "\n",
    "        # Next layers\n",
    "        for i in range(1, len(features)):\n",
    "            layers.append(\n",
    "                nn.Sequential(\n",
    "                    nn.Conv2d(features[i-1], features[i], kernel_size=4, stride=2, padding=1),\n",
    "                    nn.BatchNorm2d(features[i]),\n",
    "                    nn.LeakyReLU(0.2)\n",
    "                )\n",
    "            )\n",
    "\n",
    "        # Final conv layer\n",
    "        layers.append(\n",
    "            nn.Conv2d(features[-1], 1, kernel_size=4, stride=1, padding=1)\n",
    "        )\n",
    "\n",
    "        self.model = nn.Sequential(*layers)\n",
    "\n",
    "    def forward(self, x):\n",
    "        return self.model(x)"
   ]
  },
  {
   "cell_type": "code",
   "execution_count": 11,
   "metadata": {
    "execution": {
     "iopub.execute_input": "2025-07-05T03:31:19.778352Z",
     "iopub.status.busy": "2025-07-05T03:31:19.778040Z",
     "iopub.status.idle": "2025-07-05T03:31:19.848938Z",
     "shell.execute_reply": "2025-07-05T03:31:19.848387Z",
     "shell.execute_reply.started": "2025-07-05T03:31:19.778336Z"
    },
    "trusted": true
   },
   "outputs": [],
   "source": [
    "discriminator = Discriminator(in_channels=1).to(device)#sample discriminator object"
   ]
  },
  {
   "cell_type": "markdown",
   "metadata": {},
   "source": [
    "# 7.Loss Functions Used"
   ]
  },
  {
   "cell_type": "markdown",
   "metadata": {},
   "source": [
    "1. BCEWithLogitsLoss – Adversarial Loss:\n",
    "This is used for training the discriminator and generator in the GAN part.\n",
    "It combines a Sigmoid + Binary Cross Entropy for better stability.\n",
    "It helps the discriminator learn to tell real vs. fake images.\n",
    "It helps the generator learn to produce images that look real.\n",
    "\n",
    "2. MSELoss – Diffusion Noise Prediction Loss\n",
    "Used for the diffusion part to train the generator to predict the added noise.\n",
    "It measures pixel-wise accuracy between predicted and actual noise.\n",
    "This keeps the output close to the ground truth, preserving CT details.\n",
    "\n",
    "\n",
    "3. Why Use Both Together?\n",
    "BCEWithLogitsLoss ensures the output looks realistic.\n",
    "MSELoss ensures the output is accurate and denoised.\n",
    "Used together in generator loss to balance realism + precision."
   ]
  },
  {
   "cell_type": "code",
   "execution_count": 12,
   "metadata": {
    "execution": {
     "iopub.execute_input": "2025-07-05T03:31:19.850101Z",
     "iopub.status.busy": "2025-07-05T03:31:19.849810Z",
     "iopub.status.idle": "2025-07-05T03:31:19.854076Z",
     "shell.execute_reply": "2025-07-05T03:31:19.853450Z",
     "shell.execute_reply.started": "2025-07-05T03:31:19.850076Z"
    },
    "trusted": true
   },
   "outputs": [],
   "source": [
    "criterion = nn.BCEWithLogitsLoss()  # Adversarial loss\n",
    "mse_loss = nn.MSELoss()"
   ]
  },
  {
   "cell_type": "code",
   "execution_count": 13,
   "metadata": {
    "execution": {
     "iopub.execute_input": "2025-07-05T03:31:19.855317Z",
     "iopub.status.busy": "2025-07-05T03:31:19.854992Z",
     "iopub.status.idle": "2025-07-05T03:31:23.752734Z",
     "shell.execute_reply": "2025-07-05T03:31:23.752194Z",
     "shell.execute_reply.started": "2025-07-05T03:31:19.855293Z"
    },
    "trusted": true
   },
   "outputs": [],
   "source": [
    "import torch.optim as optim\n",
    "\n",
    "#Objects\n",
    "gen = UNetGenerator(in_channels=1, out_channels=1).to(device)\n",
    "disc = Discriminator(in_channels=1).to(device)\n",
    "\n",
    "# Optimizers\n",
    "gen_opt = optim.Adam(gen.parameters(), lr=2e-4, betas=(0.5, 0.999))\n",
    "disc_opt = optim.Adam(disc.parameters(), lr=2e-4, betas=(0.5, 0.999))"
   ]
  },
  {
   "cell_type": "code",
   "execution_count": 14,
   "metadata": {
    "execution": {
     "iopub.execute_input": "2025-07-05T03:31:23.755741Z",
     "iopub.status.busy": "2025-07-05T03:31:23.755475Z",
     "iopub.status.idle": "2025-07-05T03:31:23.778251Z",
     "shell.execute_reply": "2025-07-05T03:31:23.777556Z",
     "shell.execute_reply.started": "2025-07-05T03:31:23.755726Z"
    },
    "trusted": true
   },
   "outputs": [],
   "source": [
    "betas = torch.linspace(1e-4, 0.02, 1000)#\tNoise amount at each timestep\n",
    "alphas = 1.0 - betas#Signal-preservation at each timestep\n",
    "alpha_hat = torch.cumprod(alphas, dim=0)#Total signal-preservation up to timestep t"
   ]
  },
  {
   "cell_type": "code",
   "execution_count": 15,
   "metadata": {
    "execution": {
     "iopub.execute_input": "2025-07-05T03:31:23.779248Z",
     "iopub.status.busy": "2025-07-05T03:31:23.778964Z",
     "iopub.status.idle": "2025-07-05T03:31:23.784826Z",
     "shell.execute_reply": "2025-07-05T03:31:23.784315Z",
     "shell.execute_reply.started": "2025-07-05T03:31:23.779229Z"
    },
    "trusted": true
   },
   "outputs": [],
   "source": [
    "def forward_diffusion_sample(x_0, t, alpha_hat):\n",
    "    device = x_0.device  # get device from input tensor\n",
    "    noise = torch.randn_like(x_0)\n",
    "    \n",
    "    # Ensure everything is on the same device\n",
    "    t = t.to(device)\n",
    "    alpha_hat = alpha_hat.to(device)\n",
    "    \n",
    "    sqrt_alpha_hat = torch.sqrt(alpha_hat[t])[:, None, None, None]\n",
    "    sqrt_one_minus_alpha_hat = torch.sqrt(1 - alpha_hat[t])[:, None, None, None]\n",
    "    \n",
    "    return sqrt_alpha_hat * x_0 + sqrt_one_minus_alpha_hat * noise, noise\n"
   ]
  },
  {
   "cell_type": "markdown",
   "metadata": {},
   "source": [
    "# 8.Training"
   ]
  },
  {
   "cell_type": "code",
   "execution_count": 16,
   "metadata": {
    "execution": {
     "iopub.execute_input": "2025-07-05T03:31:23.785893Z",
     "iopub.status.busy": "2025-07-05T03:31:23.785586Z",
     "iopub.status.idle": "2025-07-05T04:18:58.844903Z",
     "shell.execute_reply": "2025-07-05T04:18:58.844063Z",
     "shell.execute_reply.started": "2025-07-05T03:31:23.785867Z"
    },
    "trusted": true
   },
   "outputs": [
    {
     "name": "stderr",
     "output_type": "stream",
     "text": [
      "Epoch 1/50: 100%|██████████| 45/45 [00:51<00:00,  1.15s/it, lossD=0.361, lossG=4.77]\n",
      "Epoch 2/50: 100%|██████████| 45/45 [00:51<00:00,  1.16s/it, lossD=0.375, lossG=4.84]\n",
      "Epoch 3/50: 100%|██████████| 45/45 [00:56<00:00,  1.24s/it, lossD=0.341, lossG=5.85]\n",
      "Epoch 4/50: 100%|██████████| 45/45 [00:56<00:00,  1.26s/it, lossD=0.331, lossG=6.99]\n",
      "Epoch 5/50: 100%|██████████| 45/45 [00:57<00:00,  1.27s/it, lossD=0.334, lossG=7.12]\n",
      "Epoch 6/50: 100%|██████████| 45/45 [00:57<00:00,  1.27s/it, lossD=0.327, lossG=7.72]\n",
      "Epoch 7/50: 100%|██████████| 45/45 [00:57<00:00,  1.27s/it, lossD=0.327, lossG=8.18]\n",
      "Epoch 8/50: 100%|██████████| 45/45 [00:57<00:00,  1.27s/it, lossD=2.59, lossG=4.42] \n",
      "Epoch 9/50: 100%|██████████| 45/45 [00:57<00:00,  1.27s/it, lossD=0.339, lossG=5.99]\n",
      "Epoch 10/50: 100%|██████████| 45/45 [00:57<00:00,  1.27s/it, lossD=0.332, lossG=6.81]\n",
      "Epoch 11/50: 100%|██████████| 45/45 [00:57<00:00,  1.27s/it, lossD=0.333, lossG=7]   \n",
      "Epoch 12/50: 100%|██████████| 45/45 [00:57<00:00,  1.27s/it, lossD=0.329, lossG=7.67]\n",
      "Epoch 13/50: 100%|██████████| 45/45 [00:57<00:00,  1.27s/it, lossD=0.329, lossG=7.93]\n",
      "Epoch 14/50: 100%|██████████| 45/45 [00:57<00:00,  1.27s/it, lossD=0.329, lossG=8.14]\n",
      "Epoch 15/50: 100%|██████████| 45/45 [00:57<00:00,  1.27s/it, lossD=0.327, lossG=8.14]\n",
      "Epoch 16/50: 100%|██████████| 45/45 [00:57<00:00,  1.27s/it, lossD=0.327, lossG=8.46]\n",
      "Epoch 17/50: 100%|██████████| 45/45 [00:57<00:00,  1.27s/it, lossD=0.328, lossG=8.84]\n",
      "Epoch 18/50: 100%|██████████| 45/45 [00:57<00:00,  1.27s/it, lossD=0.326, lossG=8.96]\n",
      "Epoch 19/50: 100%|██████████| 45/45 [00:57<00:00,  1.27s/it, lossD=0.327, lossG=8.83]\n",
      "Epoch 20/50: 100%|██████████| 45/45 [00:57<00:00,  1.27s/it, lossD=0.327, lossG=9.16]\n",
      "Epoch 21/50: 100%|██████████| 45/45 [00:57<00:00,  1.27s/it, lossD=0.326, lossG=9.18]\n",
      "Epoch 22/50: 100%|██████████| 45/45 [00:57<00:00,  1.27s/it, lossD=0.326, lossG=9.15]\n",
      "Epoch 23/50: 100%|██████████| 45/45 [00:57<00:00,  1.27s/it, lossD=0.326, lossG=9.53]\n",
      "Epoch 24/50: 100%|██████████| 45/45 [00:57<00:00,  1.27s/it, lossD=0.326, lossG=9.49]\n",
      "Epoch 25/50: 100%|██████████| 45/45 [00:57<00:00,  1.27s/it, lossD=0.326, lossG=9.14]\n",
      "Epoch 26/50: 100%|██████████| 45/45 [00:57<00:00,  1.28s/it, lossD=0.326, lossG=9.54]\n",
      "Epoch 27/50: 100%|██████████| 45/45 [00:57<00:00,  1.27s/it, lossD=0.327, lossG=9.54]\n",
      "Epoch 28/50: 100%|██████████| 45/45 [00:57<00:00,  1.28s/it, lossD=0.326, lossG=9.75]\n",
      "Epoch 29/50: 100%|██████████| 45/45 [00:57<00:00,  1.28s/it, lossD=0.326, lossG=9.46]\n",
      "Epoch 30/50: 100%|██████████| 45/45 [00:57<00:00,  1.28s/it, lossD=0.326, lossG=9.79]\n",
      "Epoch 31/50: 100%|██████████| 45/45 [00:57<00:00,  1.28s/it, lossD=0.326, lossG=9.17]\n",
      "Epoch 32/50: 100%|██████████| 45/45 [00:57<00:00,  1.28s/it, lossD=0.326, lossG=9.44]\n",
      "Epoch 33/50: 100%|██████████| 45/45 [00:57<00:00,  1.28s/it, lossD=0.326, lossG=9.53]\n",
      "Epoch 34/50: 100%|██████████| 45/45 [00:57<00:00,  1.28s/it, lossD=0.326, lossG=10.2]\n",
      "Epoch 35/50: 100%|██████████| 45/45 [00:57<00:00,  1.28s/it, lossD=0.326, lossG=9.76]\n",
      "Epoch 36/50: 100%|██████████| 45/45 [00:57<00:00,  1.28s/it, lossD=0.326, lossG=10.4]\n",
      "Epoch 37/50: 100%|██████████| 45/45 [00:57<00:00,  1.27s/it, lossD=0.326, lossG=9.82]\n",
      "Epoch 38/50: 100%|██████████| 45/45 [00:57<00:00,  1.28s/it, lossD=0.326, lossG=9.48]\n",
      "Epoch 39/50: 100%|██████████| 45/45 [00:57<00:00,  1.28s/it, lossD=0.326, lossG=9.82]\n",
      "Epoch 40/50: 100%|██████████| 45/45 [00:57<00:00,  1.28s/it, lossD=0.325, lossG=10.6]\n",
      "Epoch 41/50: 100%|██████████| 45/45 [00:57<00:00,  1.28s/it, lossD=0.326, lossG=10.2]\n",
      "Epoch 42/50: 100%|██████████| 45/45 [00:57<00:00,  1.28s/it, lossD=0.326, lossG=10.4]\n",
      "Epoch 43/50: 100%|██████████| 45/45 [00:57<00:00,  1.28s/it, lossD=0.326, lossG=10.4]\n",
      "Epoch 44/50: 100%|██████████| 45/45 [00:57<00:00,  1.28s/it, lossD=0.325, lossG=10.3]\n",
      "Epoch 45/50: 100%|██████████| 45/45 [00:57<00:00,  1.28s/it, lossD=0.325, lossG=10.1]\n",
      "Epoch 46/50: 100%|██████████| 45/45 [00:57<00:00,  1.28s/it, lossD=0.443, lossG=3.91]\n",
      "Epoch 47/50: 100%|██████████| 45/45 [00:57<00:00,  1.28s/it, lossD=0.348, lossG=6.02]\n",
      "Epoch 48/50: 100%|██████████| 45/45 [00:57<00:00,  1.28s/it, lossD=0.332, lossG=7]   \n",
      "Epoch 49/50: 100%|██████████| 45/45 [00:57<00:00,  1.27s/it, lossD=0.33, lossG=7.4]  \n",
      "Epoch 50/50: 100%|██████████| 45/45 [00:57<00:00,  1.28s/it, lossD=0.337, lossG=6.74]\n"
     ]
    }
   ],
   "source": [
    "# Update the training loop to use the new generator\n",
    "from tqdm import tqdm\n",
    "\n",
    "epochs = 50\n",
    "T = 1000\n",
    "\n",
    "for epoch in range(epochs):\n",
    "    loop = tqdm(load, desc=f\"Epoch {epoch+1}/{epochs}\")\n",
    "    for batch in loop:\n",
    "        real = batch[0].to(device)\n",
    "\n",
    "        # Sample timestep t\n",
    "        t = torch.randint(0, T, (real.size(0),), device=device).long()\n",
    "\n",
    "        # Generate noisy image and noise\n",
    "        x_t, noise = forward_diffusion_sample(real, t, alpha_hat)\n",
    "\n",
    "        # Train Discriminator\n",
    "        with torch.no_grad():\n",
    "            pred_noise = gen(x_t, t)  # Predict noise\n",
    "            fake = x_t - pred_noise   # Reconstruct fake image\n",
    "        disc_real = disc(real)\n",
    "        disc_fake = disc(fake)\n",
    "        lossD = criterion(disc_real, torch.ones_like(disc_real) * 0.9) + \\\n",
    "                criterion(disc_fake, torch.zeros_like(disc_fake))\n",
    "        disc_opt.zero_grad()\n",
    "        lossD.backward()\n",
    "        disc_opt.step()\n",
    "\n",
    "        # Train Generator\n",
    "        pred_noise = gen(x_t, t)\n",
    "        fake = x_t - pred_noise\n",
    "        disc_fake = disc(fake)\n",
    "        lossG = criterion(disc_fake, torch.ones_like(disc_fake)) + \\\n",
    "                mse_loss(pred_noise, noise)  # Add noise prediction loss\n",
    "        gen_opt.zero_grad()\n",
    "        lossG.backward()\n",
    "        gen_opt.step()\n",
    "\n",
    "        loop.set_postfix(lossD=lossD.item(), lossG=lossG.item())"
   ]
  },
  {
   "cell_type": "code",
   "execution_count": 17,
   "metadata": {
    "execution": {
     "iopub.execute_input": "2025-07-05T04:18:58.846112Z",
     "iopub.status.busy": "2025-07-05T04:18:58.845846Z",
     "iopub.status.idle": "2025-07-05T04:18:59.192693Z",
     "shell.execute_reply": "2025-07-05T04:18:59.192168Z",
     "shell.execute_reply.started": "2025-07-05T04:18:58.846093Z"
    },
    "trusted": true
   },
   "outputs": [],
   "source": [
    "gen = UNetGenerator(in_channels=1, out_channels=1).to(device)\n",
    "disc = Discriminator().to(device)"
   ]
  },
  {
   "cell_type": "code",
   "execution_count": 18,
   "metadata": {
    "execution": {
     "iopub.execute_input": "2025-07-05T04:18:59.193539Z",
     "iopub.status.busy": "2025-07-05T04:18:59.193349Z",
     "iopub.status.idle": "2025-07-05T04:18:59.424995Z",
     "shell.execute_reply": "2025-07-05T04:18:59.424194Z",
     "shell.execute_reply.started": "2025-07-05T04:18:59.193525Z"
    },
    "trusted": true
   },
   "outputs": [
    {
     "name": "stdout",
     "output_type": "stream",
     "text": [
      "Models saved successfully!\n"
     ]
    }
   ],
   "source": [
    "# Save the model state dictionaries\n",
    "torch.save(gen.state_dict(), \"unet_generator1.pth\")\n",
    "torch.save(disc.state_dict(), \"discriminator1.pth\")\n",
    "\n",
    "print(\"Models saved successfully!\")"
   ]
  },
  {
   "cell_type": "markdown",
   "metadata": {},
   "source": [
    "Neural Schema for Generator:"
   ]
  },
  {
   "cell_type": "code",
   "execution_count": 19,
   "metadata": {
    "execution": {
     "iopub.execute_input": "2025-07-05T04:18:59.426077Z",
     "iopub.status.busy": "2025-07-05T04:18:59.425861Z",
     "iopub.status.idle": "2025-07-05T04:18:59.822564Z",
     "shell.execute_reply": "2025-07-05T04:18:59.821908Z",
     "shell.execute_reply.started": "2025-07-05T04:18:59.426060Z"
    },
    "trusted": true
   },
   "outputs": [
    {
     "data": {
      "text/plain": [
       "UNetGenerator(\n",
       "  (downs): ModuleList(\n",
       "    (0): Sequential(\n",
       "      (0): Conv2d(64, 128, kernel_size=(3, 3), stride=(1, 1), padding=(1, 1))\n",
       "      (1): ReLU(inplace=True)\n",
       "      (2): Conv2d(128, 128, kernel_size=(3, 3), stride=(1, 1), padding=(1, 1))\n",
       "      (3): ReLU(inplace=True)\n",
       "    )\n",
       "    (1): Sequential(\n",
       "      (0): Conv2d(128, 256, kernel_size=(3, 3), stride=(1, 1), padding=(1, 1))\n",
       "      (1): ReLU(inplace=True)\n",
       "      (2): Conv2d(256, 256, kernel_size=(3, 3), stride=(1, 1), padding=(1, 1))\n",
       "      (3): ReLU(inplace=True)\n",
       "    )\n",
       "    (2): Sequential(\n",
       "      (0): Conv2d(256, 512, kernel_size=(3, 3), stride=(1, 1), padding=(1, 1))\n",
       "      (1): ReLU(inplace=True)\n",
       "      (2): Conv2d(512, 512, kernel_size=(3, 3), stride=(1, 1), padding=(1, 1))\n",
       "      (3): ReLU(inplace=True)\n",
       "    )\n",
       "  )\n",
       "  (ups): ModuleList(\n",
       "    (0): ConvTranspose2d(1024, 512, kernel_size=(2, 2), stride=(2, 2))\n",
       "    (1): Sequential(\n",
       "      (0): Conv2d(1024, 512, kernel_size=(3, 3), stride=(1, 1), padding=(1, 1))\n",
       "      (1): ReLU(inplace=True)\n",
       "      (2): Conv2d(512, 512, kernel_size=(3, 3), stride=(1, 1), padding=(1, 1))\n",
       "      (3): ReLU(inplace=True)\n",
       "    )\n",
       "    (2): ConvTranspose2d(512, 256, kernel_size=(2, 2), stride=(2, 2))\n",
       "    (3): Sequential(\n",
       "      (0): Conv2d(512, 256, kernel_size=(3, 3), stride=(1, 1), padding=(1, 1))\n",
       "      (1): ReLU(inplace=True)\n",
       "      (2): Conv2d(256, 256, kernel_size=(3, 3), stride=(1, 1), padding=(1, 1))\n",
       "      (3): ReLU(inplace=True)\n",
       "    )\n",
       "    (4): ConvTranspose2d(256, 128, kernel_size=(2, 2), stride=(2, 2))\n",
       "    (5): Sequential(\n",
       "      (0): Conv2d(256, 128, kernel_size=(3, 3), stride=(1, 1), padding=(1, 1))\n",
       "      (1): ReLU(inplace=True)\n",
       "      (2): Conv2d(128, 128, kernel_size=(3, 3), stride=(1, 1), padding=(1, 1))\n",
       "      (3): ReLU(inplace=True)\n",
       "    )\n",
       "    (6): ConvTranspose2d(128, 64, kernel_size=(2, 2), stride=(2, 2))\n",
       "    (7): Sequential(\n",
       "      (0): Conv2d(128, 64, kernel_size=(3, 3), stride=(1, 1), padding=(1, 1))\n",
       "      (1): ReLU(inplace=True)\n",
       "      (2): Conv2d(64, 64, kernel_size=(3, 3), stride=(1, 1), padding=(1, 1))\n",
       "      (3): ReLU(inplace=True)\n",
       "    )\n",
       "  )\n",
       "  (pool): MaxPool2d(kernel_size=2, stride=2, padding=0, dilation=1, ceil_mode=False)\n",
       "  (initial_conv): Sequential(\n",
       "    (0): Conv2d(65, 64, kernel_size=(3, 3), stride=(1, 1), padding=(1, 1))\n",
       "    (1): ReLU(inplace=True)\n",
       "    (2): Conv2d(64, 64, kernel_size=(3, 3), stride=(1, 1), padding=(1, 1))\n",
       "    (3): ReLU(inplace=True)\n",
       "  )\n",
       "  (bottleneck): Sequential(\n",
       "    (0): Conv2d(512, 1024, kernel_size=(3, 3), stride=(1, 1), padding=(1, 1))\n",
       "    (1): ReLU(inplace=True)\n",
       "    (2): Conv2d(1024, 1024, kernel_size=(3, 3), stride=(1, 1), padding=(1, 1))\n",
       "    (3): ReLU(inplace=True)\n",
       "  )\n",
       "  (final_conv): Sequential(\n",
       "    (0): Conv2d(64, 1, kernel_size=(1, 1), stride=(1, 1))\n",
       "    (1): Tanh()\n",
       "  )\n",
       ")"
      ]
     },
     "execution_count": 19,
     "metadata": {},
     "output_type": "execute_result"
    }
   ],
   "source": [
    "gen = UNetGenerator(in_channels=1, out_channels=1).to(device)\n",
    "gen.load_state_dict(torch.load(\"unet_generator1.pth\"))\n",
    "gen.eval()"
   ]
  },
  {
   "cell_type": "markdown",
   "metadata": {},
   "source": [
    "Neural Schema for Discriminator"
   ]
  },
  {
   "cell_type": "code",
   "execution_count": 20,
   "metadata": {
    "execution": {
     "iopub.execute_input": "2025-07-05T04:18:59.823520Z",
     "iopub.status.busy": "2025-07-05T04:18:59.823280Z",
     "iopub.status.idle": "2025-07-05T04:18:59.869294Z",
     "shell.execute_reply": "2025-07-05T04:18:59.868559Z",
     "shell.execute_reply.started": "2025-07-05T04:18:59.823494Z"
    },
    "trusted": true
   },
   "outputs": [
    {
     "data": {
      "text/plain": [
       "Discriminator(\n",
       "  (model): Sequential(\n",
       "    (0): Sequential(\n",
       "      (0): Conv2d(1, 64, kernel_size=(4, 4), stride=(2, 2), padding=(1, 1))\n",
       "      (1): LeakyReLU(negative_slope=0.2)\n",
       "    )\n",
       "    (1): Sequential(\n",
       "      (0): Conv2d(64, 128, kernel_size=(4, 4), stride=(2, 2), padding=(1, 1))\n",
       "      (1): BatchNorm2d(128, eps=1e-05, momentum=0.1, affine=True, track_running_stats=True)\n",
       "      (2): LeakyReLU(negative_slope=0.2)\n",
       "    )\n",
       "    (2): Sequential(\n",
       "      (0): Conv2d(128, 256, kernel_size=(4, 4), stride=(2, 2), padding=(1, 1))\n",
       "      (1): BatchNorm2d(256, eps=1e-05, momentum=0.1, affine=True, track_running_stats=True)\n",
       "      (2): LeakyReLU(negative_slope=0.2)\n",
       "    )\n",
       "    (3): Sequential(\n",
       "      (0): Conv2d(256, 512, kernel_size=(4, 4), stride=(2, 2), padding=(1, 1))\n",
       "      (1): BatchNorm2d(512, eps=1e-05, momentum=0.1, affine=True, track_running_stats=True)\n",
       "      (2): LeakyReLU(negative_slope=0.2)\n",
       "    )\n",
       "    (4): Conv2d(512, 1, kernel_size=(4, 4), stride=(1, 1), padding=(1, 1))\n",
       "  )\n",
       ")"
      ]
     },
     "execution_count": 20,
     "metadata": {},
     "output_type": "execute_result"
    }
   ],
   "source": [
    "disc = Discriminator().to(device)\n",
    "disc.load_state_dict(torch.load(\"discriminator1.pth\"))\n",
    "disc.eval()"
   ]
  },
  {
   "cell_type": "markdown",
   "metadata": {},
   "source": [
    "# 9.Visualization of Generated images"
   ]
  },
  {
   "cell_type": "code",
   "execution_count": 22,
   "metadata": {
    "execution": {
     "iopub.execute_input": "2025-07-05T04:24:50.364881Z",
     "iopub.status.busy": "2025-07-05T04:24:50.364587Z",
     "iopub.status.idle": "2025-07-05T04:24:52.474778Z",
     "shell.execute_reply": "2025-07-05T04:24:52.474191Z",
     "shell.execute_reply.started": "2025-07-05T04:24:50.364862Z"
    },
    "trusted": true
   },
   "outputs": [
    {
     "name": "stdout",
     "output_type": "stream",
     "text": [
      "Scenario 1: Generating from Pure Noise\n",
      "Generated Image (rescaled): tensor([[[[ 0.5921,  0.6671,  1.1238,  ...,  0.0874,  0.2075,  0.4407],\n",
      "          [ 0.6379,  0.4139, -0.9859,  ...,  0.5824,  1.0714,  1.8588],\n",
      "          [ 0.3404, -0.4306, -0.2349,  ...,  0.7078,  0.5226, -0.0049],\n",
      "          ...,\n",
      "          [ 1.1049,  1.0994,  0.5230,  ...,  0.2071,  0.7467,  0.4879],\n",
      "          [ 0.6107, -0.0625,  0.9449,  ..., -0.3029,  0.9962,  0.5413],\n",
      "          [ 0.6557,  0.5672,  0.5663,  ...,  0.3746,  1.1899,  0.9655]]]],\n",
      "       device='cuda:0')\n"
     ]
    },
    {
     "data": {
      "image/png": "[encoded data removed]",
      "text/plain": [
       "<Figure size 600x600 with 1 Axes>"
      ]
     },
     "metadata": {},
     "output_type": "display_data"
    },
    {
     "name": "stdout",
     "output_type": "stream",
     "text": [
      "Discriminator Output Shape: torch.Size([1, 1, 7, 7])\n",
      "Discriminator Output for Pure Noise Generation: 0.010347493924200535\n",
      "Discriminator Loss (assuming real): 0.6879868507385254\n",
      "\n",
      "Scenario 2: Denoising Partially Noised Real Image\n"
     ]
    },
    {
     "data": {
      "image/png": "[encoded data removed]",
      "text/plain": [
       "<Figure size 1200x400 with 4 Axes>"
      ]
     },
     "metadata": {},
     "output_type": "display_data"
    },
    {
     "name": "stdout",
     "output_type": "stream",
     "text": [
      "Discriminator Output Shapes: torch.Size([64, 1, 7, 7]) torch.Size([64, 1, 7, 7]) torch.Size([64, 1, 7, 7])\n",
      "Discriminator Output - Real: 14.90527057647705\n",
      "Discriminator Output - Noisy: 5.739530563354492\n",
      "Discriminator Output - Generated: 2.8756401538848877\n",
      "Discriminator Loss - Real: 3.362971483511501e-07\n",
      "Discriminator Loss - Noisy: 0.003211116651073098\n",
      "Discriminator Loss - Generated (as real): 0.05484800040721893\n"
     ]
    }
   ],
   "source": [
    "import torch\n",
    "import torch.nn as nn\n",
    "import matplotlib.pyplot as plt\n",
    "\n",
    "# Load the saved models\n",
    "device = torch.device(\"cuda\" if torch.cuda.is_available() else \"cpu\")\n",
    "gen = UNetGenerator(in_channels=1, out_channels=1).to(device)\n",
    "disc = Discriminator(in_channels=1).to(device)\n",
    "gen.load_state_dict(torch.load(\"unet_generator1.pth\"))\n",
    "disc.load_state_dict(torch.load(\"discriminator1.pth\"))\n",
    "gen.eval()\n",
    "disc.eval()\n",
    "\n",
    "# Loss function for evaluation\n",
    "criterion = nn.BCEWithLogitsLoss()\n",
    "\n",
    "# Scenario 1: Generate from Pure Noise\n",
    "print(\"Scenario 1: Generating from Pure Noise\")\n",
    "# Simulated noised image (shape [1, 1, 128, 128])\n",
    "noised_image = torch.randn((1, 1, 128, 128)).to(device)\n",
    "\n",
    "# Define a timestep (e.g., 25)\n",
    "timestep = torch.tensor([25]).to(device)\n",
    "\n",
    "# Generate synthetic image\n",
    "with torch.no_grad():\n",
    "    pred_noise = gen(noised_image, timestep)  # Predict noise\n",
    "    fake_image = noised_image - pred_noise    # Reconstruct image\n",
    "    fake_image = (fake_image + 1) / 2        # Rescale from [-1, 1] to [0, 1]\n",
    "\n",
    "print(\"Generated Image (rescaled):\", fake_image)\n",
    "plt.figure(figsize=(6, 6))\n",
    "plt.imshow(fake_image.squeeze().cpu().numpy(), cmap='gray')\n",
    "plt.title(\"Generated CT Slice from Pure Noise\")\n",
    "plt.axis('off')\n",
    "plt.show()\n",
    "\n",
    "# Evaluate with Discriminator\n",
    "with torch.no_grad():\n",
    "    disc_output = disc(fake_image)  # Get discriminator output\n",
    "    print(\"Discriminator Output Shape:\", disc_output.shape)  # Debug shape\n",
    "    # Reduce to scalar: average over all non-batch dimensions\n",
    "    disc_output = disc_output.mean()  # Average over all elements\n",
    "    disc_loss = criterion(disc_output.unsqueeze(0), torch.ones_like(disc_output.unsqueeze(0)))  # Treat as real\n",
    "print(\"Discriminator Output for Pure Noise Generation:\", disc_output.item())\n",
    "print(\"Discriminator Loss (assuming real):\", disc_loss.item())\n",
    "\n",
    "# Scenario 2: Denoise Partially Noised Real Image\n",
    "print(\"\\nScenario 2: Denoising Partially Noised Real Image\")\n",
    "real = next(iter(load))[0].to(device)  # Get a batch of real images\n",
    "t = torch.randint(0, 1000, (real.size(0),), device=device).long() #adjust the initial value 0 for getting more noise in the image\n",
    "x_t, _ = forward_diffusion_sample(real, t, alpha_hat)\n",
    "\n",
    "gen.eval()\n",
    "with torch.no_grad():\n",
    "    pred_noise = gen(x_t, t)  # Predict noise\n",
    "    fake = x_t - pred_noise   # Reconstruct image\n",
    "    fake = (fake + 1) / 2    # Rescale from [-1, 1] to [0, 1]\n",
    "\n",
    "# Show result\n",
    "plt.figure(figsize=(12, 4))\n",
    "plt.subplot(1, 4, 1)\n",
    "plt.title(\"Original\")\n",
    "plt.imshow(real[0, 0].cpu().numpy(), cmap='gray')\n",
    "plt.axis('off')\n",
    "\n",
    "plt.subplot(1, 4, 2)\n",
    "plt.title(\"Noisy\")\n",
    "plt.imshow(x_t[0, 0].cpu().numpy(), cmap='gray')\n",
    "plt.axis('off')\n",
    "\n",
    "plt.subplot(1, 4, 3)\n",
    "plt.title(\"Predicted Noise\")\n",
    "plt.imshow(pred_noise[0, 0].cpu().numpy(), cmap='gray')\n",
    "plt.axis('off')\n",
    "\n",
    "plt.subplot(1, 4, 4)\n",
    "plt.title(\"Generated Denoised\")\n",
    "plt.imshow(fake[0, 0].cpu().numpy(), cmap='gray')\n",
    "plt.axis('off')\n",
    "plt.show()\n",
    "\n",
    "# Evaluate with Discriminator\n",
    "with torch.no_grad():\n",
    "    disc_output_real = disc(real)\n",
    "    disc_output_noisy = disc(x_t)\n",
    "    disc_output_fake = disc(fake)\n",
    "    print(\"Discriminator Output Shapes:\", disc_output_real.shape, disc_output_noisy.shape, disc_output_fake.shape)  # Debug\n",
    "    # Reduce to scalar for each\n",
    "    disc_output_real = disc_output_real.mean()\n",
    "    disc_output_noisy = disc_output_noisy.mean()\n",
    "    disc_output_fake = disc_output_fake.mean()\n",
    "    disc_loss_real = criterion(disc_output_real.unsqueeze(0), torch.ones_like(disc_output_real.unsqueeze(0)))\n",
    "    disc_loss_noisy = criterion(disc_output_noisy.unsqueeze(0), torch.ones_like(disc_output_noisy.unsqueeze(0)))\n",
    "    disc_loss_fake = criterion(disc_output_fake.unsqueeze(0), torch.ones_like(disc_output_fake.unsqueeze(0)))\n",
    "print(\"Discriminator Output - Real:\", disc_output_real.item())\n",
    "print(\"Discriminator Output - Noisy:\", disc_output_noisy.item())\n",
    "print(\"Discriminator Output - Generated:\", disc_output_fake.item())\n",
    "print(\"Discriminator Loss - Real:\", disc_loss_real.item())\n",
    "print(\"Discriminator Loss - Noisy:\", disc_loss_noisy.item())\n",
    "print(\"Discriminator Loss - Generated (as real):\", disc_loss_fake.item())"
   ]
  }
 ],
 "metadata": {
  "kaggle": {
   "accelerator": "nvidiaTeslaT4",
   "dataSources": [
    {
     "datasetId": 7772156,
     "sourceId": 12329535,
     "sourceType": "datasetVersion"
    }
   ],
   "dockerImageVersionId": 31041,
   "isGpuEnabled": true,
   "isInternetEnabled": true,
   "language": "python",
   "sourceType": "notebook"
  },
  "kernelspec": {
   "display_name": "Python 3",
   "language": "python",
   "name": "python3"
  },
  "language_info": {
   "codemirror_mode": {
    "name": "ipython",
    "version": 3
   },
   "file_extension": ".py",
   "mimetype": "text/x-python",
   "name": "python",
   "nbconvert_exporter": "python",
   "pygments_lexer": "ipython3",
   "version": "3.11.11"
  }
 },
 "nbformat": 4,
 "nbformat_minor": 4
}
